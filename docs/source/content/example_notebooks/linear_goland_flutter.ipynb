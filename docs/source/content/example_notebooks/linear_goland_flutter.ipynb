{
 "cells": [
  {
   "cell_type": "markdown",
   "metadata": {
    "tags": []
   },
   "source": [
    "\n",
    "# Flutter Analysis of Goland's Wing\n",
    "\n",
    "## Description\n",
    "This is  simple rectangular wing with constant properties originally proposed by Martin Goland in 1945 as a flutter benchmark case. This example generates a beam/UVLM model with the original properties in SHARPy and computes flutter around an arbitrary equilibrium point using the following general process:\n",
    "\n",
    "* Calculate steady aerodynamic forces and deflections for a given angle of attack using a nonlinear solver\n",
    "\n",
    "* Linearise the dynamic aeroelastic equations about this reference condition\n",
    "\n",
    "* Reduce the size of the (linearized) structural subsystem using modal projection\n",
    "\n",
    "* Reduce the size of the (linearized) aerodyanic subsystem using a Krylov projection\n",
    "\n",
    "* Evaluate the stability of the linearised aeroelastic system at different velocities and plot the results.\n",
    "\n",
    "## Wing properties\n",
    "Span: b=20 ft., chord: c=6 ft., weight: 4 psi., radius of gyration about CG: .25c, elastic axis: 0.33c, centre of gravity: 0.43c\n",
    "\n",
    "### References\n",
    "\n",
    "Goland, M. (1945). The Flutter o a Uniorm Cantilever Wing. Journal of Applied Mechanics,12(4):197-208.\n",
    "\n",
    "Maraniello, S., & Palacios, R. (2019). State-Space Realizations and Internal Balancing in Potential-Flow Aerodynamics with Arbitrary Kinematics. AIAA Journal, 57(6):1–14. https://doi.org/10.2514/1.J058153\n",
    "\n",
    "#### Latest update, RPN 14.05.2023\n",
    "\n"
   ]
  },
  {
   "cell_type": "markdown",
   "metadata": {},
   "source": [
    "## Required Packages"
   ]
  },
  {
   "cell_type": "code",
   "execution_count": 1,
   "metadata": {},
   "outputs": [],
   "source": [
    "import numpy as np\n",
    "import matplotlib.pyplot as plt\n",
    "import os\n",
    "import sys\n",
    "import sharpy.cases.templates.flying_wings as wings  # See this package for the Goland wing structural and aerodynamic definition\n",
    "import sharpy.sharpy_main  # used to run SHARPy from Jupyter"
   ]
  },
  {
   "cell_type": "markdown",
   "metadata": {},
   "source": [
    "## Problem Set-up"
   ]
  },
  {
   "cell_type": "markdown",
   "metadata": {},
   "source": [
    "### Operatig conditions\n",
    "\n",
    "The UVLM is assembled in normalised time at a velocity of $1 m/s$. The only matrices that need updating then with free stream velocity are the structural matrices, which is significantly cheaper to do than to update the UVLM."
   ]
  },
  {
   "cell_type": "code",
   "execution_count": 2,
   "metadata": {},
   "outputs": [],
   "source": [
    "u_inf = 1.\n",
    "alpha_deg = 2.  # Define angle of attack for static aeroelastic analysis.\n",
    "rho = 1.02      # Air density."
   ]
  },
  {
   "cell_type": "markdown",
   "metadata": {},
   "source": [
    "### Discretisation\n",
    "\n",
    "Note: To achieve convergence of the flutter results with the ones found in the literature, a fine grid is needed. If you are running this notebook for the first time, set `M = 4` initially to verify that your system can perform!"
   ]
  },
  {
   "cell_type": "code",
   "execution_count": 3,
   "metadata": {},
   "outputs": [],
   "source": [
    "M = 16             # Number of chordwise panels\n",
    "N = 32             # Number of spanwise panels\n",
    "M_star_fact = 10   # Length of the wake in chords.\n",
    "num_modes =  8     # Number of vibration modes retained in the structural model."
   ]
  },
  {
   "cell_type": "markdown",
   "metadata": {},
   "source": [
    "### ROM\n",
    "\n",
    "A moment-matching (Krylov subspace) model order reduction technique is employed. This ROM method offers the ability to interpolate the transfer functions at a desired point in the complex plane. See the ROM documentation pages for more info. Note that this ROM method matches the transfer function but does not guarantee stability. Therefore the resulting system may be unstable. These unstable modes may appear far in the right hand plane but will not affect the flutter speed calculations."
   ]
  },
  {
   "cell_type": "code",
   "execution_count": 4,
   "metadata": {},
   "outputs": [],
   "source": [
    "c_ref = 1.8288 # Goland wing reference chord. Used for reduced frequency normalisation\n",
    "rom_settings = dict()\n",
    "rom_settings['algorithm'] = 'mimo_rational_arnoldi'  # reduction algorithm\n",
    "rom_settings['r'] = 6  # Krylov subspace order\n",
    "frequency_continuous_k = np.array([0.])  # Interpolation point in the complex plane with reduced frequency units\n",
    "frequency_continuous_w = 2 * u_inf * frequency_continuous_k / c_ref\n",
    "rom_settings['frequency'] = frequency_continuous_w"
   ]
  },
  {
   "cell_type": "markdown",
   "metadata": {},
   "source": [
    "### Case Admin"
   ]
  },
  {
   "cell_type": "code",
   "execution_count": 5,
   "metadata": {},
   "outputs": [
    {
     "name": "stdout",
     "output_type": "stream",
     "text": [
      "The case to run will be: goland_csM16N32Ms10_nmodes8rom_MIMORA_r6_sig0000_0000j\n",
      "Case files will be saved in ./cases/goland_csM16N32Ms10_nmodes8rom_MIMORA_r6_sig0000_0000j\n",
      "Output files will be saved in ./output/goland_csM16N32Ms10_nmodes8rom_MIMORA_r6_sig0000_0000j/\n"
     ]
    }
   ],
   "source": [
    "case_name = 'goland_cs'\n",
    "case_nlin_info = 'M%dN%dMs%d_nmodes%d' % (M, N, M_star_fact, num_modes)\n",
    "case_rom_info = 'rom_MIMORA_r%d_sig%04d_%04dj' % (rom_settings['r'], frequency_continuous_k[-1].real * 100,\n",
    "                                                  frequency_continuous_k[-1].imag * 100)\n",
    "\n",
    "case_name += case_nlin_info + case_rom_info\n",
    "route_test_dir = os.path.abspath('')\n",
    "\n",
    "print('The case to run will be: %s' % case_name)\n",
    "print('Case files will be saved in ./cases/%s' %case_name)\n",
    "print('Output files will be saved in ./output/%s/' %case_name)"
   ]
  },
  {
   "cell_type": "markdown",
   "metadata": {},
   "source": [
    "## Simulation Set-Up"
   ]
  },
  {
   "cell_type": "markdown",
   "metadata": {},
   "source": [
    "### Goland Wing\n",
    "\n",
    "`ws` is an instance of a Goland wing with a control surface. Reference the template file `sharpy.cases.templates.flying_wings.GolandControlSurface` for more info on the geometrical, structural and aerodynamic definition of the Goland wing here used."
   ]
  },
  {
   "cell_type": "code",
   "execution_count": 6,
   "metadata": {},
   "outputs": [],
   "source": [
    "ws = wings.GolandControlSurface(M=M,\n",
    "                                N=N,\n",
    "                                Mstar_fact=M_star_fact,\n",
    "                                u_inf=u_inf,\n",
    "                                alpha=alpha_deg,\n",
    "                                cs_deflection=[0, 0],\n",
    "                                rho=rho,\n",
    "                                sweep=0,\n",
    "                                physical_time=2,\n",
    "                                n_surfaces=2,\n",
    "                                route=route_test_dir + '/cases',\n",
    "                                case_name=case_name)\n",
    "\n",
    "ws.clean_test_files()\n",
    "ws.update_derived_params()\n",
    "ws.set_default_config_dict()\n",
    "\n",
    "ws.generate_aero_file()\n",
    "ws.generate_fem_file()"
   ]
  },
  {
   "cell_type": "markdown",
   "metadata": {},
   "source": [
    "### Simulation Settings\n",
    "\n",
    "The settings for each of the solvers are now set. For a detailed description on them please reference their respective documentation pages"
   ]
  },
  {
   "cell_type": "markdown",
   "metadata": {},
   "source": [
    "#### SHARPy Settings\n",
    "\n",
    "The most important setting is the `flow` list. It tells SHARPy which solvers to run and in which order."
   ]
  },
  {
   "cell_type": "code",
   "execution_count": 7,
   "metadata": {},
   "outputs": [],
   "source": [
    "ws.config['SHARPy'] = {\n",
    "    'flow':\n",
    "        ['BeamLoader', 'AerogridLoader',\n",
    "         'StaticCoupled',\n",
    "         'AerogridPlot',\n",
    "         'BeamPlot',\n",
    "         'Modal',\n",
    "         'LinearAssembler',\n",
    "         'AsymptoticStability',\n",
    "         ],\n",
    "    'case': ws.case_name, 'route': ws.route,\n",
    "    'write_screen': 'off', 'write_log': 'on',    # Change to 'on' as neded.\n",
    "    'log_folder': route_test_dir + '/output/',\n",
    "    'log_file': ws.case_name + '.log'}"
   ]
  },
  {
   "cell_type": "markdown",
   "metadata": {},
   "source": [
    "#### Beam Loader Settings"
   ]
  },
  {
   "cell_type": "code",
   "execution_count": 8,
   "metadata": {},
   "outputs": [],
   "source": [
    "ws.config['BeamLoader'] = {\n",
    "    'unsteady': 'off',\n",
    "    'orientation': ws.quat}"
   ]
  },
  {
   "cell_type": "markdown",
   "metadata": {},
   "source": [
    "#### Aerogrid Loader Settings"
   ]
  },
  {
   "cell_type": "code",
   "execution_count": 9,
   "metadata": {},
   "outputs": [],
   "source": [
    "ws.config['AerogridLoader'] = {\n",
    "    'unsteady': 'off',\n",
    "    'aligned_grid': 'on',\n",
    "    'mstar': ws.Mstar_fact * ws.M,\n",
    "    'freestream_dir': ws.u_inf_direction,\n",
    "    'wake_shape_generator': 'StraightWake',\n",
    "    'wake_shape_generator_input': {'u_inf': ws.u_inf,\n",
    "                                    'u_inf_direction': ws.u_inf_direction,\n",
    "                                    'dt': ws.dt}}\n"
   ]
  },
  {
   "cell_type": "markdown",
   "metadata": {},
   "source": [
    "#### Static Coupled Solver"
   ]
  },
  {
   "cell_type": "code",
   "execution_count": 10,
   "metadata": {},
   "outputs": [],
   "source": [
    "ws.config['StaticCoupled'] = {\n",
    "    'print_info': 'on',\n",
    "    'max_iter': 200,\n",
    "    'n_load_steps': 1,\n",
    "    'tolerance': 1e-10,\n",
    "    'relaxation_factor': 0.,\n",
    "    'aero_solver': 'StaticUvlm',\n",
    "    'aero_solver_settings': {\n",
    "        'rho': ws.rho,\n",
    "        'print_info': 'off',\n",
    "        'horseshoe': 'off',\n",
    "        'num_cores': 4,\n",
    "        'n_rollup': 0,\n",
    "        'rollup_dt': ws.dt,\n",
    "        'rollup_aic_refresh': 1,\n",
    "        'rollup_tolerance': 1e-4,\n",
    "        'velocity_field_generator': 'SteadyVelocityField',\n",
    "        'velocity_field_input': {\n",
    "            'u_inf': ws.u_inf,\n",
    "            'u_inf_direction': ws.u_inf_direction}},\n",
    "    'structural_solver': 'NonLinearStatic',\n",
    "    'structural_solver_settings': {'print_info': 'off',\n",
    "                                   'max_iterations': 150,\n",
    "                                   'num_load_steps': 4,\n",
    "                                   'delta_curved': 1e-1,\n",
    "                                   'min_delta': 1e-10,\n",
    "                                   'gravity_on': 'on',\n",
    "                                   'gravity': 9.81}}"
   ]
  },
  {
   "cell_type": "markdown",
   "metadata": {},
   "source": [
    "#### AerogridPlot Settings"
   ]
  },
  {
   "cell_type": "code",
   "execution_count": 11,
   "metadata": {},
   "outputs": [],
   "source": [
    "ws.config['AerogridPlot'] = {'include_rbm': 'off',\n",
    "                             'include_applied_forces': 'on',\n",
    "                             'minus_m_star': 0}"
   ]
  },
  {
   "cell_type": "markdown",
   "metadata": {},
   "source": [
    "#### BeamPlot Settings"
   ]
  },
  {
   "cell_type": "code",
   "execution_count": 12,
   "metadata": {},
   "outputs": [],
   "source": [
    "ws.config['BeamPlot'] = {'include_rbm': 'off',\n",
    "                         'include_applied_forces': 'on'}"
   ]
  },
  {
   "cell_type": "markdown",
   "metadata": {},
   "source": [
    "#### Modal Solver Settings"
   ]
  },
  {
   "cell_type": "code",
   "execution_count": 13,
   "metadata": {},
   "outputs": [],
   "source": [
    "ws.config['Modal'] = {'NumLambda': 20,\n",
    "                      'rigid_body_modes': 'off',\n",
    "                      'print_matrices': 'on', # 'keep_linear_matrices': 'on',            'write_dat': 'off',\n",
    "                      'rigid_modes_cg': 'off',\n",
    "                      'continuous_eigenvalues': 'off',\n",
    "                      'dt': 0,\n",
    "                      'plot_eigenvalues': False,\n",
    "                      'max_rotation_deg': 15.,\n",
    "                      'max_displacement': 0.15,\n",
    "                      'write_modes_vtk': True,\n",
    "                      'use_undamped_modes': True}"
   ]
  },
  {
   "cell_type": "markdown",
   "metadata": {},
   "source": [
    "#### Linear System Assembly Settings"
   ]
  },
  {
   "cell_type": "code",
   "execution_count": 14,
   "metadata": {},
   "outputs": [],
   "source": [
    "ws.config['LinearAssembler'] = {'linear_system': 'LinearAeroelastic',\n",
    "                                'linear_system_settings': {\n",
    "                                    'beam_settings': {'modal_projection': 'on',\n",
    "                                                      'inout_coords': 'modes',\n",
    "                                                      'discrete_time': 'on',\n",
    "                                                      'newmark_damp': 0.5e-4,\n",
    "                                                      'discr_method': 'newmark',\n",
    "                                                      'dt': ws.dt,\n",
    "                                                      'proj_modes': 'undamped',\n",
    "                                                      'use_euler': 'off',\n",
    "                                                      'num_modes': num_modes,\n",
    "                                                      'print_info': 'on',\n",
    "                                                      'gravity': 'on',\n",
    "                                                      'remove_sym_modes': 'on',\n",
    "                                                      'remove_dofs': []},\n",
    "                                    'aero_settings': {'dt': ws.dt,\n",
    "                                                      'ScalingDict': {'length': 0.5 * ws.c_ref,\n",
    "                                                                      'speed': u_inf,\n",
    "                                                                      'density': rho},\n",
    "                                                      'integr_order': 2,\n",
    "                                                      'density': ws.rho,\n",
    "                                                      'remove_predictor': 'on',\n",
    "                                                      'use_sparse': 'on',\n",
    "                                                      'remove_inputs': ['u_gust'],\n",
    "                                                      'rom_method': ['Krylov'],\n",
    "                                                      'rom_method_settings': {'Krylov': rom_settings}},\n",
    "                                    }}"
   ]
  },
  {
   "cell_type": "markdown",
   "metadata": {},
   "source": [
    "#### Asymptotic Stability Analysis Settings"
   ]
  },
  {
   "cell_type": "code",
   "execution_count": 15,
   "metadata": {},
   "outputs": [],
   "source": [
    "ws.config['AsymptoticStability'] = {'print_info': True,\n",
    "                                    'velocity_analysis': [100, 180, 81],\n",
    "                                   'modes_to_plot': []}"
   ]
  },
  {
   "cell_type": "markdown",
   "metadata": {},
   "source": [
    "### Write solver settings config file"
   ]
  },
  {
   "cell_type": "code",
   "execution_count": 16,
   "metadata": {},
   "outputs": [],
   "source": [
    "ws.config.write()"
   ]
  },
  {
   "cell_type": "markdown",
   "metadata": {},
   "source": [
    "## Run SHARPy"
   ]
  },
  {
   "cell_type": "code",
   "execution_count": 17,
   "metadata": {},
   "outputs": [
    {
     "name": "stderr",
     "output_type": "stream",
     "text": [
      "fatal: not a git repository (or any of the parent directories): .git\n",
      "/home/rpalacio/anaconda3/envs/sharpy/lib/python3.10/site-packages/scipy/sparse/_index.py:146: SparseEfficiencyWarning: Changing the sparsity structure of a csc_matrix is expensive. lil_matrix is more efficient.\n",
      "  self._set_arrayXarray(i, j, x)\n",
      "/home/rpalacio/anaconda3/envs/sharpy/lib/python3.10/site-packages/sharpy/linear/src/lingebm.py:313: UserWarning: Euler parametrisation not implemented - Either rigid body modes are not being used or this method has already been called.\n",
      "  warnings.warn('Euler parametrisation not implemented - Either rigid body modes are not being used or this '\n",
      "/home/rpalacio/anaconda3/envs/sharpy/lib/python3.10/site-packages/sharpy/rom/krylov.py:242: UserWarning: Reduced Order Model Unstable\n",
      "  warn.warn('Reduced Order Model Unstable')\n"
     ]
    },
    {
     "data": {
      "text/plain": [
       "<sharpy.presharpy.presharpy.PreSharpy at 0x7f90aedb16c0>"
      ]
     },
     "execution_count": 17,
     "metadata": {},
     "output_type": "execute_result"
    }
   ],
   "source": [
    "sharpy.sharpy_main.main(['', ws.route + ws.case_name + '.sharpy'])"
   ]
  },
  {
   "cell_type": "markdown",
   "metadata": {},
   "source": [
    "## Analysis"
   ]
  },
  {
   "cell_type": "markdown",
   "metadata": {},
   "source": [
    "### Nonlinear equilibrium\n",
    "\n",
    "The nonlinear equilibrium condition can be visualised and analysed by opening, with Paraview, the files in the `/output/<case_name>/aero` and `/output/<case_name>/beam` folders to see the deflection and aerodynamic forces acting on the wing."
   ]
  },
  {
   "cell_type": "markdown",
   "metadata": {},
   "source": [
    "### Stability \n",
    "\n",
    "The stability of the Goland wing is now analysed under changing free stream velocity. The flutter modes involves the two lowest frequency modes near the imaginary axis (1st bending and 1st torsion if aerodynamics is removed). The two modes are seen quite separated at 100 m/s. As speed is increased, the damping of the torsion mode decreases until it crosses the imaginary axis onto the right hand plane and flutter begins."
   ]
  },
  {
   "cell_type": "code",
   "execution_count": 18,
   "metadata": {},
   "outputs": [],
   "source": [
    "file_name = './output/%s/stability/velocity_analysis_min1000_max1800_nvel0081.dat' % case_name\n",
    "\n",
    "velocity_analysis = np.loadtxt(file_name)\n",
    "u_inf = velocity_analysis[:, 0]\n",
    "eigs_r = velocity_analysis[:, 1]\n",
    "eigs_i = velocity_analysis[:, 2]"
   ]
  },
  {
   "cell_type": "code",
   "execution_count": 23,
   "metadata": {},
   "outputs": [
    {
     "data": {
      "image/png": "[encoded data removed]",
      "text/plain": [
       "<Figure size 640x480 with 2 Axes>"
      ]
     },
     "metadata": {},
     "output_type": "display_data"
    }
   ],
   "source": [
    "fig = plt.figure()\n",
    "plt.scatter(eigs_r, eigs_i, c=u_inf, cmap='Blues')\n",
    "cbar = plt.colorbar()\n",
    "cbar.set_label('Free Stream Velocity, $u_\\infty$ [m/s]')\n",
    "\n",
    "plt.grid()\n",
    "plt.xlim(-50, 5)\n",
    "plt.ylim(0, 300)\n",
    "plt.xlabel('Real Part, $\\lambda$ [rad/s]')\n",
    "plt.ylabel('Imag Part, $\\lambda$ [rad/s]');"
   ]
  },
  {
   "cell_type": "code",
   "execution_count": 20,
   "metadata": {},
   "outputs": [
    {
     "data": {
      "image/png": "[encoded data removed]",
      "text/plain": [
       "<Figure size 640x480 with 1 Axes>"
      ]
     },
     "metadata": {},
     "output_type": "display_data"
    }
   ],
   "source": [
    "fig = plt.figure()\n",
    "natural_frequency = np.sqrt(eigs_r ** 2 + eigs_i ** 2)\n",
    "damping_ratio = eigs_r / natural_frequency\n",
    "cond = (eigs_r>-25) * (eigs_r<10) * (natural_frequency<100) # filter unwanted eigenvalues for this plot (mostly aero modes)\n",
    "\n",
    "plt.scatter(u_inf[cond], damping_ratio[cond], color='k', marker='s', s=9)\n",
    "\n",
    "plt.grid()\n",
    "plt.ylim(-0.25, 0.25)\n",
    "plt.xlabel('Free Stream Velocity, $u_\\infty$ [m/s]')\n",
    "plt.ylabel('Damping Ratio, $\\zeta$ [-]');"
   ]
  },
  {
   "cell_type": "code",
   "execution_count": 21,
   "metadata": {
    "tags": []
   },
   "outputs": [
    {
     "data": {
      "image/png": "[encoded data removed]",
      "text/plain": [
       "<Figure size 640x480 with 1 Axes>"
      ]
     },
     "metadata": {},
     "output_type": "display_data"
    }
   ],
   "source": [
    "fig = plt.figure()\n",
    "cond = (eigs_r>-25) * (eigs_r<10) # filter unwanted eigenvalues for this plot (mostly aero modes)\n",
    "plt.scatter(u_inf[cond], natural_frequency[cond], color='k', marker='s', s=9)\n",
    "\n",
    "plt.grid()\n",
    "plt.ylim(40, 100)\n",
    "plt.xlabel('Free Stream Velocity, $u_\\infty$ [m/s]')\n",
    "plt.ylabel('Natural Frequency, $\\omega_n$ [rad/s]');"
   ]
  }
 ],
 "metadata": {
  "kernelspec": {
   "display_name": "Python 3 (ipykernel)",
   "language": "python",
   "name": "python3"
  },
  "language_info": {
   "codemirror_mode": {
    "name": "ipython",
    "version": 3
   },
   "file_extension": ".py",
   "mimetype": "text/x-python",
   "name": "python",
   "nbconvert_exporter": "python",
   "pygments_lexer": "ipython3",
   "version": "3.10.11"
  }
 },
 "nbformat": 4,
 "nbformat_minor": 4
}
