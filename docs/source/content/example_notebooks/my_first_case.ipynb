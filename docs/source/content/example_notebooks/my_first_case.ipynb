{
 "cells": [
  {
   "cell_type": "markdown",
   "metadata": {},
   "source": [
    "# My first test \n",
    "\n",
    "This is an example using SHARPy\n",
    "\n",
    "\n"
   ]
  },
  {
   "cell_type": "markdown",
   "metadata": {},
   "source": [
    "## Required Packages"
   ]
  },
  {
   "cell_type": "code",
   "execution_count": null,
   "metadata": {},
   "outputs": [],
   "source": [
    "# Loading of the used packages\n",
    "import numpy as np              # basic mathematical and array functions\n",
    "import os                       # Functions related to the operating system\n",
    "import matplotlib.pyplot as plt # Plotting library\n",
    "\n",
    "import sharpy.sharpy_main                  # Run SHARPy inside jupyter notebooks\n",
    "import sharpy.utils.plotutils as pu        # Plotting utilities\n",
    "from sharpy.utils.constants import deg2rad # Constant to conver degrees to radians\n",
    "\n",
    "import sharpy.utils.generate_cases as gc"
   ]
  },
  {
   "cell_type": "markdown",
   "metadata": {},
   "source": [
    "## Problem Set-up"
   ]
  },
  {
   "cell_type": "markdown",
   "metadata": {},
   "source": [
    "### Velocity\n",
    "\n",
    "The UVLM is assembled in normalised time at a velocity of $1 m/s$. The only matrices that need updating then with free stream velocity are the structural matrices, which is significantly cheaper to do than to update the UVLM."
   ]
  },
  {
   "cell_type": "code",
   "execution_count": null,
   "metadata": {},
   "outputs": [],
   "source": [
    "! pip install plotly"
   ]
  },
  {
   "cell_type": "code",
   "execution_count": null,
   "metadata": {},
   "outputs": [],
   "source": [
    "%config InlineBackend.figure_format = 'svg'\n",
    "from IPython.display import Image\n",
    "url = ('https://raw.githubusercontent.com/ImperialCollegeLondon/sharpy/dev_example/docs/' +\n",
    "       'source/content/example_notebooks/images/simple_wing_scheme.png')\n",
    "Image(url=url, width=800)"
   ]
  },
  {
   "cell_type": "code",
   "execution_count": null,
   "metadata": {},
   "outputs": [],
   "source": [
    "# Geometry\n",
    "chord = 1.         # Chord of the wing\n",
    "aspect_ratio = 16. # Ratio between lenght and chord: aspect_ratio = length/chord\n",
    "wake_length = 25   # Length of the wake in chord lengths\n",
    "\n",
    "# Discretization\n",
    "num_node = 11           # Number of nodes in the structural discretisation\n",
    "                        # The number of nodes will also define the aerodynamic panels in the\n",
    "                        # spanwise direction\n",
    "num_chord_panels = 2    # Number of aerodynamic panels in the chordwise direction\n",
    "num_points_camber = 100 # The camber line of the wing will be defined by a series of (x,y)\n",
    "                        # coordintes. Here, we define the size of the (x,y) vectors\n",
    "\n",
    "# Structural properties of the beam cross section\n",
    "mass_per_unit_length = 0.75 # Mass per unit length\n",
    "mass_iner_x = 0.1           # Mass inertia around the local x axis\n",
    "mass_iner_y = 0.05          # Mass inertia around the local y axis\n",
    "mass_iner_z = 0.05          # Mass inertia around the local z axis\n",
    "pos_cg_B = np.zeros((3))    # position of the centre of mass with respect to the elastic axis\n",
    "EA = 1e7                    # Axial stiffness\n",
    "GAy = 1e6                   # Shear stiffness in the local y axis\n",
    "GAz = 1e6                   # Shear stiffness in the local z axis\n",
    "GJ = 3e5                    # Torsional stiffness\n",
    "EIy = 6e5                   # Bending stiffness around the flapwise direction\n",
    "EIz = 1.5e8                   # Bending stiffness around the edgewise direction\n",
    "\n",
    "# Operation\n",
    "WSP = 125.             # Wind speed\n",
    "air_density = 0.1      # Air density\n",
    "\n",
    "# Time discretization\n",
    "end_time = 5.0                  # End time of the simulation\n",
    "dt = chord/num_chord_panels/WSP # Always keep one timestep per panel\n",
    "\n"
   ]
  },
  {
   "cell_type": "code",
   "execution_count": null,
   "metadata": {},
   "outputs": [],
   "source": [
    "aoa_ini_deg = 2.        # Angle of attack at the beginning of the simulation\n",
    "aoa_end_deg = 1.        # Angle of attack at the end of the simulation"
   ]
  },
  {
   "cell_type": "code",
   "execution_count": null,
   "metadata": {},
   "outputs": [],
   "source": [
    "wing = gc.AeroelasticInformation()"
   ]
  },
  {
   "cell_type": "code",
   "execution_count": null,
   "metadata": {},
   "outputs": [],
   "source": [
    "wing.StructuralInformation.__dict__.keys()"
   ]
  },
  {
   "cell_type": "code",
   "execution_count": null,
   "metadata": {},
   "outputs": [],
   "source": [
    "print(wing.StructuralInformation.connectivities)"
   ]
  },
  {
   "cell_type": "code",
   "execution_count": null,
   "metadata": {},
   "outputs": [],
   "source": [
    "# Define the number of nodes and the number of nodes per element\n",
    "wing.StructuralInformation.num_node = num_node\n",
    "wing.StructuralInformation.num_node_elem = 3\n",
    "# Compute the number of elements assuming basic connections\n",
    "wing.StructuralInformation.compute_basic_num_elem()"
   ]
  },
  {
   "cell_type": "code",
   "execution_count": null,
   "metadata": {},
   "outputs": [],
   "source": [
    "# Generate an array with the location of the nodes\n",
    "node_r = np.zeros((num_node, 3))\n",
    "node_r[:,1] = np.linspace(0, chord*aspect_ratio, num_node)\n",
    "print(node_r)"
   ]
  },
  {
   "cell_type": "code",
   "execution_count": null,
   "metadata": {},
   "outputs": [],
   "source": [
    "wing.StructuralInformation.generate_uniform_beam(node_r,\n",
    "                    mass_per_unit_length,\n",
    "                    mass_iner_x,\n",
    "                    mass_iner_y,\n",
    "                    mass_iner_z,\n",
    "                    pos_cg_B,\n",
    "                    EA,\n",
    "                    GAy,\n",
    "                    GAz,\n",
    "                    GJ,\n",
    "                    EIy,\n",
    "                    EIz,\n",
    "                    num_node_elem = wing.StructuralInformation.num_node_elem,\n",
    "                    y_BFoR = 'x_AFoR',\n",
    "                    num_lumped_mass=0)"
   ]
  },
  {
   "cell_type": "code",
   "execution_count": null,
   "metadata": {},
   "outputs": [],
   "source": [
    "print(wing.StructuralInformation.connectivities)"
   ]
  },
  {
   "cell_type": "code",
   "execution_count": null,
   "metadata": {},
   "outputs": [],
   "source": [
    "wing.StructuralInformation.boundary_conditions[0] = 1\n",
    "wing.StructuralInformation.boundary_conditions[-1] = -1"
   ]
  },
  {
   "cell_type": "code",
   "execution_count": null,
   "metadata": {},
   "outputs": [],
   "source": [
    "# Compute the number of panels in the wake (streamwise direction) based on the previous paramete\n",
    "wake_panels = int(wake_length*chord/dt)\n",
    "\n",
    "# Define the coordinates of the camber line of the wing\n",
    "wing_camber = np.zeros((1, num_points_camber, 2))\n",
    "wing_camber[0, :, 0] = np.linspace(0, 1, num_points_camber)\n",
    "\n"
   ]
  },
  {
   "cell_type": "code",
   "execution_count": null,
   "metadata": {},
   "outputs": [],
   "source": [
    "# Generate blade aerodynamics\n",
    "wing.AerodynamicInformation.create_one_uniform_aerodynamics(wing.StructuralInformation,\n",
    "                                 chord = chord,\n",
    "                                 twist = 0.,\n",
    "                                 sweep = 0.,\n",
    "                                 num_chord_panels = num_chord_panels,\n",
    "                                 m_distribution = 'uniform',\n",
    "                                 elastic_axis = 0.5,\n",
    "                                 num_points_camber = num_points_camber,\n",
    "                                 airfoil = wing_camber)"
   ]
  },
  {
   "cell_type": "code",
   "execution_count": null,
   "metadata": {},
   "outputs": [],
   "source": [
    "# Gather data about available solvers\n",
    "SimInfo = gc.SimulationInformation() # Initialises the SimulationInformation class\n",
    "SimInfo.set_default_values()         # Assigns the default values to all the solvers\n",
    "\n",
    "# Print the available solvers and postprocessors\n",
    "for key in SimInfo.solvers.keys():\n",
    "    print(key)\n",
    "\n"
   ]
  },
  {
   "cell_type": "code",
   "execution_count": null,
   "metadata": {},
   "outputs": [],
   "source": [
    "SimInfo.solvers['BeamLoader']\n",
    "\n"
   ]
  },
  {
   "cell_type": "code",
   "execution_count": null,
   "metadata": {},
   "outputs": [],
   "source": [
    "SimInfo.solvers['SHARPy']['flow'] = ['BeamLoader',\n",
    "                        'AerogridLoader']\n",
    "\n",
    "SimInfo.solvers['SHARPy']['case'] = 'plot'\n",
    "SimInfo.solvers['SHARPy']['route'] = './'\n",
    "SimInfo.solvers['SHARPy']['write_screen'] = 'off'\n",
    "\n"
   ]
  },
  {
   "cell_type": "code",
   "execution_count": null,
   "metadata": {},
   "outputs": [],
   "source": [
    "SimInfo.solvers['AerogridLoader']['unsteady'] = 'on'\n",
    "SimInfo.solvers['AerogridLoader']['mstar'] = wake_panels\n",
    "SimInfo.solvers['AerogridLoader']['freestream_dir'] = np.array([1.,0.,0.])\n",
    "SimInfo.solvers['AerogridLoader']['wake_shape_generator'] = 'StraightWake'\n",
    "SimInfo.solvers['AerogridLoader']['wake_shape_generator_input'] = {'u_inf': WSP,\n",
    "                                                                   'u_inf_direction' : np.array(\n",
    "                                                                                         [np.cos(aoa_ini_deg*deg2rad),\n",
    "                                                                                         0.,\n",
    "                                                                                         np.sin(aoa_ini_deg*deg2rad)]),\n",
    "                                                                   'dt': dt}\n",
    "\n"
   ]
  },
  {
   "cell_type": "code",
   "execution_count": null,
   "metadata": {},
   "outputs": [],
   "source": [
    "gc.clean_test_files(SimInfo.solvers['SHARPy']['route'], SimInfo.solvers['SHARPy']['case'])\n",
    "wing.generate_h5_files(SimInfo.solvers['SHARPy']['route'], SimInfo.solvers['SHARPy']['case'])\n",
    "SimInfo.generate_solver_file()"
   ]
  },
  {
   "cell_type": "code",
   "execution_count": null,
   "metadata": {},
   "outputs": [],
   "source": [
    "sharpy_output = sharpy.sharpy_main.main(['',\n",
    "                                         SimInfo.solvers['SHARPy']['route'] +\n",
    "                                         SimInfo.solvers['SHARPy']['case'] +\n",
    "                                         '.sharpy'])\n",
    "\n"
   ]
  },
  {
   "cell_type": "code",
   "execution_count": null,
   "metadata": {},
   "outputs": [],
   "source": [
    "#pu.plot_timestep(sharpy_output, tstep=-1, minus_mstar=(wake_panels - 6), plotly=True)"
   ]
  },
  {
   "cell_type": "code",
   "execution_count": null,
   "metadata": {},
   "outputs": [],
   "source": [
    "# Define the simulation\n",
    "SimInfo.solvers['SHARPy']['flow'] = ['BeamLoader',\n",
    "                        'AerogridLoader',\n",
    "                        'StaticCoupled']\n",
    "\n",
    "SimInfo.set_variable_all_dicts('rho', air_density)\n",
    "\n",
    "SimInfo.solvers['SHARPy']['case'] = 'static'\n",
    "SimInfo.solvers['SHARPy']['write_screen'] = 'on'\n",
    "\n",
    "SimInfo.solvers['NonLinearStatic']['gravity_on'] = False\n",
    "\n",
    "SimInfo.solvers['StaticUvlm']['horseshoe'] = True\n",
    "SimInfo.solvers['StaticUvlm']['n_rollup'] = 0\n",
    "SimInfo.solvers['StaticUvlm']['velocity_field_generator'] = 'SteadyVelocityField'\n",
    "SimInfo.solvers['StaticUvlm']['velocity_field_input'] = {'u_inf' : WSP,\n",
    "                                                         'u_inf_direction' : np.array(\n",
    "                                                                                [np.cos(aoa_ini_deg*deg2rad),\n",
    "                                                                                 0.,\n",
    "                                                                                 np.sin(aoa_ini_deg*deg2rad)])}\n",
    "\n",
    "SimInfo.solvers['StaticCoupled']['structural_solver'] = 'NonLinearStatic'\n",
    "SimInfo.solvers['StaticCoupled']['structural_solver_settings'] = SimInfo.solvers['NonLinearStatic']\n",
    "SimInfo.solvers['StaticCoupled']['aero_solver'] = 'StaticUvlm'\n",
    "SimInfo.solvers['StaticCoupled']['aero_solver_settings'] = SimInfo.solvers['StaticUvlm']\n",
    "SimInfo.solvers['StaticCoupled']['n_load_steps'] = 0\n"
   ]
  },
  {
   "cell_type": "code",
   "execution_count": null,
   "metadata": {},
   "outputs": [],
   "source": [
    "gc.clean_test_files(SimInfo.solvers['SHARPy']['route'], SimInfo.solvers['SHARPy']['case'])\n",
    "SimInfo.generate_solver_file()\n",
    "wing.generate_h5_files(SimInfo.solvers['SHARPy']['route'], SimInfo.solvers['SHARPy']['case'])"
   ]
  },
  {
   "cell_type": "code",
   "execution_count": null,
   "metadata": {},
   "outputs": [],
   "source": [
    "# Running SHARPy again inside jupyter\n",
    "sharpy_output = sharpy.sharpy_main.main(['',\n",
    "                                         SimInfo.solvers['SHARPy']['route'] +\n",
    "                                         SimInfo.solvers['SHARPy']['case'] +\n",
    "                                         '.sharpy'])"
   ]
  },
  {
   "cell_type": "code",
   "execution_count": null,
   "metadata": {},
   "outputs": [],
   "source": [
    "pu.plot_timestep(sharpy_output, tstep=-1, minus_mstar=(wake_panels-6), plotly=True)\n"
   ]
  },
  {
   "cell_type": "code",
   "execution_count": null,
   "metadata": {},
   "outputs": [],
   "source": [
    "SimInfo.solvers['SHARPy']['flow'] = ['BeamLoader',\n",
    "                        'AerogridLoader',\n",
    "                        'StaticCoupled',\n",
    "                        'DynamicCoupled']\n",
    "\n",
    "SimInfo.solvers['SHARPy']['route'] = './'\n",
    "SimInfo.solvers['SHARPy']['case'] = 'dynamic'"
   ]
  },
  {
   "cell_type": "code",
   "execution_count": null,
   "metadata": {},
   "outputs": [],
   "source": [
    "# Compute the number of time steps needed based on the previous parameters\n",
    "time_steps = int(end_time/dt)\n",
    "\n",
    "# Define the time step and the number of time steps in every solver that requires them as input\n",
    "SimInfo.set_variable_all_dicts('dt', dt)\n",
    "SimInfo.define_num_steps(time_steps)"
   ]
  },
  {
   "cell_type": "code",
   "execution_count": null,
   "metadata": {},
   "outputs": [],
   "source": [
    "SimInfo.solvers['StepUvlm']['convection_scheme'] = 2\n",
    "SimInfo.solvers['StaticUvlm']['velocity_field_generator'] = 'SteadyVelocityField'\n",
    "SimInfo.solvers['StepUvlm']['velocity_field_input'] = {'u_inf' : WSP,\n",
    "                                                       'u_inf_direction' : np.array(\n",
    "                                                                              [np.cos(aoa_end_deg*deg2rad),\n",
    "                                                                               0.,\n",
    "                                                                               np.sin(aoa_end_deg*deg2rad)])}\n",
    "\n",
    "SimInfo.solvers['NonLinearDynamicPrescribedStep']['gravity_on'] = False\n",
    "\n",
    "SimInfo.solvers['DynamicCoupled']['structural_solver'] = 'NonLinearDynamicPrescribedStep'\n",
    "SimInfo.solvers['DynamicCoupled']['structural_solver_settings'] = SimInfo.solvers['NonLinearDynamicPrescribedStep']\n",
    "SimInfo.solvers['DynamicCoupled']['aero_solver'] = 'StepUvlm'\n",
    "SimInfo.solvers['DynamicCoupled']['aero_solver_settings'] = SimInfo.solvers['StepUvlm']\n",
    "SimInfo.solvers['DynamicCoupled']['postprocessors'] = ['BeamPlot', 'AerogridPlot']\n",
    "SimInfo.solvers['DynamicCoupled']['postprocessors_settings'] = {'BeamPlot': SimInfo.solvers['BeamPlot'],\n",
    "                                                             'AerogridPlot': SimInfo.solvers['AerogridPlot']}\n"
   ]
  },
  {
   "cell_type": "code",
   "execution_count": null,
   "metadata": {},
   "outputs": [],
   "source": [
    "SimInfo.with_forced_vel = True\n",
    "SimInfo.for_vel = np.zeros((time_steps,6), dtype=float)\n",
    "SimInfo.for_acc = np.zeros((time_steps,6), dtype=float)\n",
    "SimInfo.with_dynamic_forces = True\n",
    "SimInfo.dynamic_forces = np.zeros((time_steps,wing.StructuralInformation.num_node,6),\n",
    "                                  dtype=float)\n",
    "\n"
   ]
  },
  {
   "cell_type": "code",
   "execution_count": null,
   "metadata": {},
   "outputs": [],
   "source": [
    "gc.clean_test_files(SimInfo.solvers['SHARPy']['route'], SimInfo.solvers['SHARPy']['case'])\n",
    "wing.generate_h5_files(SimInfo.solvers['SHARPy']['route'], SimInfo.solvers['SHARPy']['case'])\n",
    "SimInfo.generate_solver_file()\n",
    "SimInfo.generate_dyn_file(time_steps)"
   ]
  },
  {
   "cell_type": "code",
   "execution_count": null,
   "metadata": {},
   "outputs": [],
   "source": [
    "sharpy_output = sharpy.sharpy_main.main(['',\n",
    "                                         SimInfo.solvers['SHARPy']['route'] +\n",
    "                                         SimInfo.solvers['SHARPy']['case'] +\n",
    "                                         '.sharpy'])"
   ]
  },
  {
   "cell_type": "code",
   "execution_count": null,
   "metadata": {},
   "outputs": [],
   "source": [
    "pu.plot_timestep(sharpy_output, tstep=-400, minus_mstar=(wake_panels-6), plotly=True)"
   ]
  },
  {
   "cell_type": "code",
   "execution_count": null,
   "metadata": {},
   "outputs": [],
   "source": [
    "time = np.linspace(0, dt*time_steps, time_steps)\n",
    "tip_pos = np.zeros((time_steps))\n",
    "for it in range(time_steps):\n",
    "    tip_pos[it] = sharpy_output.structure.timestep_info[it].pos[-1, 2]\n",
    "\n",
    "fig, plots = plt.subplots(1, 1, figsize=(6, 3))\n",
    "\n",
    "plots.grid()\n",
    "plots.set_xlabel(\"time [s]\")\n",
    "plots.set_ylabel(\"tip position [m]\")\n",
    "plots.plot(time, tip_pos, '-')\n",
    "\n",
    "plt.show()\n",
    "\n"
   ]
  },
  {
   "cell_type": "code",
   "execution_count": null,
   "metadata": {},
   "outputs": [],
   "source": [
    "print(sharpy_output.structure.timestep_info)"
   ]
  },
  {
   "cell_type": "code",
   "execution_count": null,
   "metadata": {},
   "outputs": [],
   "source": []
  }
 ],
 "metadata": {
  "kernelspec": {
   "display_name": "Python 3",
   "language": "python",
   "name": "python3"
  },
  "language_info": {
   "codemirror_mode": {
    "name": "ipython",
    "version": 3
   },
   "file_extension": ".py",
   "mimetype": "text/x-python",
   "name": "python",
   "nbconvert_exporter": "python",
   "pygments_lexer": "ipython3",
   "version": "3.7.5"
  }
 },
 "nbformat": 4,
 "nbformat_minor": 4
}
